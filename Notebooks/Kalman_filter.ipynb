{
  "nbformat": 4,
  "nbformat_minor": 0,
  "metadata": {
    "colab": {
      "name": "Untitled85.ipynb",
      "provenance": []
    },
    "kernelspec": {
      "name": "python3",
      "display_name": "Python 3"
    },
    "language_info": {
      "name": "python"
    }
  },
  "cells": [
    {
      "cell_type": "markdown",
      "metadata": {
        "id": "LMnX2lIXTrgQ"
      },
      "source": [
        "##$$\\textbf{ARTIFICIAL INTELLIGENCE FOR ROBOTICS}$$$$ Localisation$$"
      ]
    },
    {
      "cell_type": "code",
      "metadata": {
        "colab": {
          "base_uri": "https://localhost:8080/"
        },
        "id": "0uVAnr8nXLj5",
        "outputId": "8f9176ee-e857-4a55-da9b-ff441ca43f9b"
      },
      "source": [
        "##(Multiple Measurements)\n",
        "#ROBOT SENSES RED THEN GREEN AND p is posterior after observations\n",
        "p = [0.2, 0.2, 0.2, 0.2, 0.2]\n",
        "world = ['green', 'red', 'red', 'green', 'green']\n",
        "#Replace Z with measurements vector and assume the robot is going\n",
        "#sense red, then green\n",
        "measurements = ['red', 'green']\n",
        "pHit = 0.6\n",
        "pMiss = 0.2\n",
        "def sense(p, Z):\n",
        "   q = [ ]\n",
        "   for i in range(len(p)):\n",
        "     hit = (Z == world[i])\n",
        "     q.append(p[i] * (hit * pHit + (1-hit)* pMiss))\n",
        "   s = sum(q)\n",
        "   for i in range (len(p)):\n",
        "     q[i] = q[i]/s\n",
        "#As often as there are ''measurements'' use the following for loop\n",
        "   return q\n",
        "\n",
        "for k in range(len(measurements)):\n",
        "#Grab the k element, apply to the current belief, p, and update belief into itself\n",
        "   p = sense(p, measurements [k])\n",
        "\n",
        "print(\"Posterior probability after measurements\")\n",
        "print(p)\n",
        "#run this twice and get back the uniform distribution:"
      ],
      "execution_count": null,
      "outputs": [
        {
          "output_type": "stream",
          "text": [
            "Posterior probability after measurements\n",
            "[0.20000000000000004, 0.19999999999999996, 0.19999999999999996, 0.20000000000000004, 0.20000000000000004]\n"
          ],
          "name": "stdout"
        }
      ]
    },
    {
      "cell_type": "markdown",
      "metadata": {
        "id": "OeFZsZjmcAIK"
      },
      "source": [
        "#ACCURATE ROBOT MOTION\n",
        "We know the robot moves to the right, and we will assume the world is cyclic. So, when the\n",
        "robot reaches the right-most cell, it will circle around back to the first, leftmost cell.\n",
        "\n",
        "#Question 1 (Exact Motion)\n",
        "Assuming the robot moves exactly one position to the right, what is the posterior probability\n",
        "distribution after the motion?\n",
        "\n",
        "Define a function move with an input distribution p and a motion number U, where U is the\n",
        "number of grid cells moving to the right or to the left.\n",
        "#Program a function that returns a new distribution q, where if U == 0, q is the same as p.\n",
        "● If U == 1, all the values cyclically shift to the right by 1\n",
        "● If U == 3, all the values cyclically shift to the right by 3\n",
        "● If U == -1, all the values cyclically shift to the left by 1\n",
        "Changing the probability for cell 2 from zero to one will allow us to see the effect of the motion.\n",
        "\n",
        "Code is:"
      ]
    },
    {
      "cell_type": "code",
      "metadata": {
        "colab": {
          "base_uri": "https://localhost:8080/"
        },
        "id": "rY2IYUXkZeKY",
        "outputId": "01213db9-b5ce-4f9f-cd61-cdfc5ef9661b"
      },
      "source": [
        "\n",
        "\n",
        "p = [0, 1, 0, 0, 0]\n",
        "world = ['green', 'red', 'red', 'green', 'green']\n",
        "measurements = ['red', 'green']\n",
        "pHit = 0.6\n",
        "pMiss = 0.2\n",
        "def sense(p, Z):\n",
        "  q = []\n",
        "  for i in range(len(p)):\n",
        "      hit = (Z == world[i])\n",
        "      q.append(p[i] * (hit * pHit + (1- hit)* pMiss))\n",
        "  s = sum(q)\n",
        "  for i in range (len(p)):\n",
        "    q[i] = q[i]/s\n",
        "  return q\n",
        "#print(sense(p, Z))\n",
        "\n",
        "\n",
        "def move(p, U):\n",
        "  #Enter your code here\n",
        "   q= [ ] #Start with empty list\n",
        "   for i in range(len(p)):\n",
        "#Go through all the elements in ''''''''p'''''\n",
        "#Construct ''q'' element by element by accessing corresponding ''p'' which is shifted by ''U''\n",
        "     q.append(p[(i-U)% len (p)])\n",
        "   return q\n",
        "\n",
        "for k in range(len(measurements)):\n",
        "    p = sense(p, measurements [k])\n",
        "\n",
        "print(\"Posterior after movement\")\n",
        "print(move (p, 1))"
      ],
      "execution_count": null,
      "outputs": [
        {
          "output_type": "stream",
          "text": [
            "Posterior after movement\n",
            "[0.0, 0.0, 1.0, 0.0, 0.0]\n"
          ],
          "name": "stdout"
        }
      ]
    },
    {
      "cell_type": "markdown",
      "metadata": {
        "id": "_ArrkLOjeQYm"
      },
      "source": [
        "#Inexact Motion\n",
        "Given a uniform distribution, fill in the\n",
        "Inexact Motion\n",
        "We can answer this question in two ways:\n",
        "1. As shown: explicitly calculate the possible\n",
        "ways of arriving at each cell. This takes\n",
        "quite a bit of calculation, but will give us the\n",
        "correct answer.\n",
        "2. Realize that if we start with a uniform prior\n",
        "distribution (state of maximum confusion),\n",
        "and we then move, we MUST end up with\n",
        ". Since this problem starts with a state of maximum confusion\n",
        "and then moves (which, remember, never increases our knowledge of the system), we\n",
        "must remain in the maximally confused state.\n",
        "Question 4 (Inexact Move Function)\n",
        "Modify the move procedure to accommodate the added probabilities.\n",
        "\n"
      ]
    },
    {
      "cell_type": "code",
      "metadata": {
        "colab": {
          "base_uri": "https://localhost:8080/"
        },
        "id": "dXQju67OeCY0",
        "outputId": "7e8f110b-e6cf-4460-e8ed-6800581d6c67"
      },
      "source": [
        "p = [0, 1, 0, 0, 0]\n",
        "world = ['green', 'red', 'red', 'green', 'green']\n",
        "measurements = ['red', 'green']\n",
        "pHit = 0.6\n",
        "pMiss = 0.2\n",
        "#Add exact probability\n",
        "pExact = 0.8\n",
        "#Add overshoot probability\n",
        "pOvershoot = 0.1\n",
        "pUndershoot = 0.1\n",
        "def move_exact(p, U):\n",
        "   q= []\n",
        "   for i in range(len(p)):\n",
        "     q.append(p[(i-U)% len (p)])\n",
        "   return q\n",
        "\n",
        "def move_inexact(p, U):\n",
        "#Introduce auxiliary variable s\n",
        "   q= []\n",
        "   for i in range(len(p)):\n",
        "      s = pExact * p[(i-U)% len(p)]\n",
        "      s = s + pOvershoot * p[(i-U-1)% len(p)]\n",
        "      s = s + pUndershoot * p[(i-U+1) % len(p)]\n",
        "      q.append(s)\n",
        "   return q\n",
        "\n",
        "#Write a piece of code that moves 1,000 steps and give you the final distribution.\n",
        "#Move 1000 steps\n",
        "#Write a loop for 1,000 steps\n",
        "for k in range(1000):\n",
        "   p = move_inexact(p, 1)\n",
        "\n",
        "print(\"posterior prob after movement of 1000 steps:\")\n",
        "print (p)\n",
        "#Final distribution is 0.2 in each case as expected"
      ],
      "execution_count": null,
      "outputs": [
        {
          "output_type": "stream",
          "text": [
            "posterior prob after movement of 1000 steps:\n",
            "[0.20000000000000365, 0.20000000000000373, 0.20000000000000365, 0.2000000000000035, 0.2000000000000035]\n"
          ],
          "name": "stdout"
        }
      ]
    },
    {
      "cell_type": "markdown",
      "metadata": {
        "id": "cOuntlxJiwxh"
      },
      "source": [
        "#Robot Sense and Movement\n",
        "Localization, specifically the Monte Carlo localization method that we are using here, is nothing\n",
        "but the repetition of sensing and moving. There is an initial belief that is tossed into the loop.\n",
        "If you sense first it comes to the left side. Localization cycles through move and sense. Every\n",
        "time it moves it loses information and every time it senses it gains information. Entropy is a\n",
        "measure of the information that a distribution has."
      ]
    },
    {
      "cell_type": "code",
      "metadata": {
        "colab": {
          "base_uri": "https://localhost:8080/"
        },
        "id": "h8l4272ceCmT",
        "outputId": "9dca725c-c61b-46ac-ef75-25cd93d755ed"
      },
      "source": [
        "#Sense and Move\n",
        "for k in range(len(measurements)):\n",
        "  p = sense(p, measurements[k])\n",
        "  p = move(p, motions[k])\n",
        "print(\"Posterior after sense and move:\")\n",
        "print(p)"
      ],
      "execution_count": null,
      "outputs": [
        {
          "output_type": "stream",
          "text": [
            "Posterior after sense and move:\n",
            "[0.15789473684210528, 0.47368421052631576, 0.05263157894736838, 0.15789473684210514, 0.15789473684210525]\n"
          ],
          "name": "stdout"
        }
      ]
    },
    {
      "cell_type": "code",
      "metadata": {
        "id": "YJ8LS9HWeCpN"
      },
      "source": [
        "#1-D sense and move functions"
      ],
      "execution_count": null,
      "outputs": []
    },
    {
      "cell_type": "code",
      "metadata": {
        "colab": {
          "base_uri": "https://localhost:8080/"
        },
        "id": "vPkJ_zJJlgfL",
        "outputId": "044834b1-ec73-420d-91cc-1bfa5d8bfc56"
      },
      "source": [
        "\n",
        "import numpy as np\n",
        "a=np.array([[1,2,2],[1,2,2]])\n",
        "print(a[0])\n",
        "print(a[1])"
      ],
      "execution_count": null,
      "outputs": [
        {
          "output_type": "stream",
          "text": [
            "[1 2 2]\n",
            "[1 2 2]\n"
          ],
          "name": "stdout"
        }
      ]
    },
    {
      "cell_type": "code",
      "metadata": {
        "colab": {
          "base_uri": "https://localhost:8080/"
        },
        "id": "LXrK843sTqsO",
        "outputId": "4b019742-6a87-4b8e-cb83-0b42c19dd4f3"
      },
      "source": [
        "#Given the list motions=[1,1] which means the robot \n",
        "#moves right and then right again, compute the posterior \n",
        "#distribution if the robot first senses red, then moves \n",
        "#right one, then senses green, then moves right again, \n",
        "#starting with a uniform prior distribution.\n",
        "\n",
        "p=[0.2, 0.2, 0.2, 0.2, 0.2]\n",
        "world=['green', 'red', 'red', 'green', 'green']\n",
        "measurements = ['red', 'green']\n",
        "motions = [1,1]\n",
        "pHit = 0.6\n",
        "pMiss = 0.2\n",
        "pExact = 0.8\n",
        "pOvershoot = 0.1\n",
        "pUndershoot = 0.1\n",
        "\n",
        "def sense(p, Z):\n",
        "    q=[]\n",
        "    for i in range(len(p)):\n",
        "        hit = (Z == world[i])\n",
        "        q.append(p[i] * (hit * pHit + (1-hit) * pMiss))\n",
        "    s = sum(q)\n",
        "    for i in range(len(q)):\n",
        "        q[i] = q[i] / s\n",
        "    return q\n",
        "\n",
        "def move(p, U):\n",
        "    q = []\n",
        "    for i in range(len(p)):\n",
        "        s = pExact * p[(i-U) % len(p)]\n",
        "        s = s + pOvershoot * p[(i-U-1) % len(p)]\n",
        "        s = s + pUndershoot * p[(i-U+1) % len(p)]\n",
        "        q.append(s)\n",
        "    return q\n",
        "#\n",
        "# ADD CODE HERE\n",
        "for k in range(len(measurements)):\n",
        "    p = sense(p, measurements[k])\n",
        "    p = move(p, motions[k])\n",
        "#\n",
        "print(\"Posterior probability after movements then measurements\")\n",
        "print(p)        "
      ],
      "execution_count": null,
      "outputs": [
        {
          "output_type": "stream",
          "text": [
            "Posterior probability after movements then measurements\n",
            "[0.21157894736842103, 0.1515789473684211, 0.08105263157894739, 0.16842105263157897, 0.3873684210526316]\n"
          ],
          "name": "stdout"
        }
      ]
    },
    {
      "cell_type": "code",
      "metadata": {
        "colab": {
          "base_uri": "https://localhost:8080/"
        },
        "id": "F75jfPBUW8Sa",
        "outputId": "a2d15c7c-3e3b-49f6-fede-3269fcf8f358"
      },
      "source": [
        "#Modify the previous code so that the robot senses red twice.\n",
        "\n",
        "p=[0.2, 0.2, 0.2, 0.2, 0.2]\n",
        "world=['green', 'red', 'red', 'green', 'green']\n",
        "measurements = ['red', 'red']\n",
        "motions = [1,1]\n",
        "pHit = 0.6\n",
        "pMiss = 0.2\n",
        "pExact = 0.8\n",
        "pOvershoot = 0.1\n",
        "pUndershoot = 0.1\n",
        "\n",
        "def sense(p, Z):\n",
        "    q=[]\n",
        "    for i in range(len(p)):\n",
        "        hit = (Z == world[i])\n",
        "        q.append(p[i] * (hit * pHit + (1-hit) * pMiss))\n",
        "    s = sum(q)\n",
        "    for i in range(len(q)):\n",
        "        q[i] = q[i] / s\n",
        "    return q\n",
        "\n",
        "def move(p, U):\n",
        "    q = []\n",
        "    for i in range(len(p)):\n",
        "        s = pExact * p[(i-U) % len(p)]\n",
        "        s = s + pOvershoot * p[(i-U-1) % len(p)]\n",
        "        s = s + pUndershoot * p[(i-U+1) % len(p)]\n",
        "        q.append(s)\n",
        "    return q\n",
        "\n",
        "for k in range(len(measurements)):\n",
        "    p = sense(p, measurements[k])\n",
        "    p = move(p, motions[k])\n",
        "\n",
        "print(\"Posterior probability after movements then measurements\")\n",
        "print(p)         \n"
      ],
      "execution_count": null,
      "outputs": [
        {
          "output_type": "stream",
          "text": [
            "Posterior probability after movements then measurements\n",
            "[0.07882352941176471, 0.07529411764705884, 0.22470588235294123, 0.4329411764705882, 0.18823529411764706]\n"
          ],
          "name": "stdout"
        }
      ]
    },
    {
      "cell_type": "code",
      "metadata": {
        "id": "4gjZdjL4XL1i"
      },
      "source": [
        "# The function localize takes the following arguments:\n",
        "#\n",
        "# colors:2-D grid,where robot can lie\n",
        "#        2D list, each entry either 'R' (for red cell) or 'G' (for green cell)\n",
        "#\n",
        "# measurements:\n",
        "#        list of measurements taken by the robot, each entry either 'R' or 'G'\n",
        "#\n",
        "# motions:\n",
        "#        list of actions taken by the robot, each entry of the form [dy,dx],\n",
        "#        where dx refers to the change in the x-direction (positive meaning\n",
        "#        movement to the right) and dy refers to the change in the y-direction\n",
        "#        (positive meaning movement downward)\n",
        "#        NOTE: the *first* coordinate is change in y; the *second* coordinate is\n",
        "#              change in x\n",
        "#\n",
        "# sensor_right:\n",
        "#        float between 0 and 1, giving the probability that any given\n",
        "#        measurement is correct; the probability that the measurement is\n",
        "#        incorrect is 1-sensor_right\n",
        "#\n",
        "# p_move:\n",
        "#        float between 0 and 1, giving the probability that any given movement\n",
        "#        command takes place; the probability that the movement command fails\n",
        "#        (and the robot remains still) is 1-p_move; the robot will NOT overshoot\n",
        "#        its destination in this exercise\n",
        "#\n",
        "# The function should RETURN (not just show or print) a 2D list (of the same\n",
        "# dimensions as colors) that gives the probabilities that the robot occupies\n",
        "# each cell in the world.\n",
        "#\n",
        "# Compute the probabilities by assuming the robot initially has a uniform\n",
        "# probability of being in any cell.\n",
        "#\n",
        "# Also assume that at each step, the robot:\n",
        "# 1) first makes a movement,\n",
        "# 2) then takes a measurement.\n",
        "#\n",
        "# Motion:\n",
        "#  [0,0] - stay\n",
        "#  [0,1] - right\n",
        "#  [0,-1] - left\n",
        "#  [1,0] - down\n",
        "#  [-1,0] - up\n",
        "\n",
        "def localize(colors,measurements,motions,sensor_right,p_move):\n",
        "    # initializes p to a uniform distribution over a grid of the same dimensions as colors\n",
        "    pinit = 1.0 / float(len(colors)) / float(len(colors[0]))\n",
        "    p = [[pinit for row in range(len(colors[0]))] for col in range(len(colors))]\n",
        "    \n",
        "    # >>> Insert your code here <<<\n",
        "    \n",
        "    return p\n",
        "\n",
        "def show(p):\n",
        "    rows = ['[' + ','.join(map(lambda x: '{0:.5f}'.format(x),r)) + ']' for r in p]\n",
        "    print '[' + ',\\n '.join(rows) + ']'\n",
        "    \n",
        "#############################################################\n",
        "# For the following test case, your output should be \n",
        "# [[0.01105, 0.02464, 0.06799, 0.04472, 0.02465],\n",
        "#  [0.00715, 0.01017, 0.08696, 0.07988, 0.00935],\n",
        "#  [0.00739, 0.00894, 0.11272, 0.35350, 0.04065],\n",
        "#  [0.00910, 0.00715, 0.01434, 0.04313, 0.03642]]\n",
        "# (within a tolerance of +/- 0.001 for each entry)\n",
        "\n",
        "colors = [['R','G','G','R','R'],\n",
        "          ['R','R','G','R','R'],\n",
        "          ['R','R','G','G','R'],\n",
        "          ['R','R','R','R','R']]\n",
        "measurements = ['G','G','G','G','G']\n",
        "motions = [[0,0],[0,1],[1,0],[1,0],[0,1]]\n",
        "p = localize(colors,measurements,motions,sensor_right = 0.7, p_move = 0.8)\n",
        "show(p) # displays your answer\n"
      ],
      "execution_count": null,
      "outputs": []
    },
    {
      "cell_type": "code",
      "metadata": {
        "colab": {
          "base_uri": "https://localhost:8080/"
        },
        "id": "i27zWhxUXL6C",
        "outputId": "6f050aaf-e488-4bcd-817e-af7c4709eb2a"
      },
      "source": [
        "#SOLUTION\n",
        "# The function localize takes the following arguments:\n",
        "#\n",
        "# colors:\n",
        "#        2D list, each entry either 'R' (for red cell) or 'G' (for green cell)\n",
        "#\n",
        "# measurements:\n",
        "#        list of measurements taken by the robot, each entry either 'R' or 'G'\n",
        "#\n",
        "# motions:\n",
        "#        list of actions taken by the robot, each entry of the form [dy,dx],\n",
        "#        where dx refers to the change in the x-direction (positive meaning\n",
        "#        movement to the right) and dy refers to the change in the y-direction\n",
        "#        (positive meaning movement downward)\n",
        "#        NOTE: the *first* coordinate is change in y; the *second* coordinate is\n",
        "#              change in x\n",
        "#\n",
        "# sensor_right:\n",
        "#        float between 0 and 1, giving the probability that any given\n",
        "#        measurement is correct; the probability that the measurement is\n",
        "#        incorrect is 1-sensor_right\n",
        "#\n",
        "# p_move:\n",
        "#        float between 0 and 1, giving the probability that any given movement\n",
        "#        command takes place; the probability that the movement command fails\n",
        "#        (and the robot remains still) is 1-p_move; the robot will NOT overshoot\n",
        "#        its destination in this exercise\n",
        "#\n",
        "# The function should RETURN (not just show or print) a 2D list (of the same\n",
        "# dimensions as colors) that gives the probabilities that the robot occupies\n",
        "# each cell in the world.\n",
        "#\n",
        "# Compute the probabilities by assuming the robot initially has a uniform\n",
        "# probability of being in any cell.\n",
        "#\n",
        "# Also assume that at each step, the robot:\n",
        "# 1) first makes a movement,\n",
        "# 2) then takes a measurement.\n",
        "#\n",
        "# Motion:\n",
        "#  [0,0] - stay\n",
        "#  [0,1] - right\n",
        "#  [0,-1] - left\n",
        "#  [1,0] - down\n",
        "#  [-1,0] - up\n",
        "\n",
        "colors = [['R','G','G','R','R'],\n",
        "          ['R','R','G','R','R'],\n",
        "          ['R','R','G','G','R']]\n",
        "          #['R','R','R','R','R']]\n",
        "measurements = ['G','G','G','G','G']\n",
        "motions = [[0,0],[0,1],[1,0],[1,0],[0,1]]\n",
        "numb_cols=len(colors[0])\n",
        "numb_rows=len(colors)\n",
        "def localize(colors,measurements,motions,sensor_right,p_move):\n",
        "    # initializes p to a uniform distribution over a grid of the same dimensions as colors\n",
        "    pinit = 1.0 / float(len(colors)) / float(len(colors[0]))\n",
        "    p = [[pinit for row in range(numb_cols)] for col in range(numb_rows)]\n",
        "\n",
        "    if len(measurements)!=len(motions):\n",
        "      raise (ValueError,\"measurement length should be equal to motion length\")\n",
        "\n",
        "    # >>> Insert your code here <<<\n",
        "    for i in range(len(measurements)):\n",
        "        p = move(p, motions[i], p_move, colors)\n",
        "        p = sense(p, measurements[i], sensor_right, colors)\n",
        "    return p\n",
        "\n",
        "def sense(p, Z, pHit, colors):\n",
        "    pMiss = 1. - pHit\n",
        "    s=0\n",
        "    q = [[0 for row in range(numb_cols)] for col in range(numb_rows)]\n",
        "    for i in range(len(p)):\n",
        "        for j in range(len(p)):\n",
        "            hit = (Z == colors[i][j]) \n",
        "            q[i][j] = (p[i][j] * (hit * pHit + (1-hit) * pMiss))\n",
        "            s += q[i][j]\n",
        "    for i in range(len(q)):\n",
        "        for j in range(len(q[0])):\n",
        "            q[i][j] = q[i][j] / s\n",
        "    return q\n",
        "\n",
        "def move(p, U, p_move, colors):\n",
        "    p_stay = 1. - p_move\n",
        "    aux = [[0 for row in range(numb_cols)] for col in range(numb_rows)]\n",
        "    rows=len(aux)\n",
        "    cols=len(aux[0])\n",
        "    for i in range(rows):\n",
        "      for j in range(cols):\n",
        "            s = p_move * p[(i-U[0]) % len(p)][(j-U[1]) % len(p[0])]\n",
        "            s += p_stay * p[i][j]\n",
        "            aux[i][j] = s\n",
        "    return aux\n",
        "\n",
        "def show(p):\n",
        "    #rows = ['[' + ','.join(map(lambda x: '{0:.5f}'.format(x),r)) + ']' for r in p]\n",
        "    #print ('[' + ',\\n '.join(rows) + ']')\n",
        "    for i in range(len(p)):\n",
        "      print(p[i])\n",
        "\n",
        "def show_matrix(p):\n",
        "    #rows = ['[' + ','.join(map(lambda x: '{0:.5f}'.format(x),r)) + ']' for r in p]\n",
        "    #print ('[' + ',\\n '.join(rows) + ']')\n",
        "    for i in range(len(p)):\n",
        "      for j in range(len(p[0])):\n",
        "         print(\"i=\",i,\",j=\",j,\":\")\n",
        "         print(p[i][j])\n",
        "\n",
        "\n",
        "p = localize(colors,measurements,motions,sensor_right = 0.7, p_move = 0.8)\n",
        "\n",
        "print (\"Main problem:\")\n",
        "show(p) # displays your answer\n",
        "#show(correct_answer)\n",
        "print (\"\\n\")\n",
        "show_matrix(p)\n"
      ],
      "execution_count": null,
      "outputs": [
        {
          "output_type": "stream",
          "text": [
            "Main problem:\n",
            "[0.0008224589369606554, 0.04012232232077742, 0.2893873554147651, 0.0, 0.0]\n",
            "[0.0008224589369606554, 0.016077549145475326, 0.3153616240253862, 0.0, 0.0]\n",
            "[0.0008224589369606554, 0.012548895691493025, 0.3240348765912211, 0.0, 0.0]\n",
            "\n",
            "\n",
            "i= 0 ,j= 0 :\n",
            "0.0008224589369606554\n",
            "i= 0 ,j= 1 :\n",
            "0.04012232232077742\n",
            "i= 0 ,j= 2 :\n",
            "0.2893873554147651\n",
            "i= 0 ,j= 3 :\n",
            "0.0\n",
            "i= 0 ,j= 4 :\n",
            "0.0\n",
            "i= 1 ,j= 0 :\n",
            "0.0008224589369606554\n",
            "i= 1 ,j= 1 :\n",
            "0.016077549145475326\n",
            "i= 1 ,j= 2 :\n",
            "0.3153616240253862\n",
            "i= 1 ,j= 3 :\n",
            "0.0\n",
            "i= 1 ,j= 4 :\n",
            "0.0\n",
            "i= 2 ,j= 0 :\n",
            "0.0008224589369606554\n",
            "i= 2 ,j= 1 :\n",
            "0.012548895691493025\n",
            "i= 2 ,j= 2 :\n",
            "0.3240348765912211\n",
            "i= 2 ,j= 3 :\n",
            "0.0\n",
            "i= 2 ,j= 4 :\n",
            "0.0\n"
          ],
          "name": "stdout"
        }
      ]
    },
    {
      "cell_type": "code",
      "metadata": {
        "colab": {
          "base_uri": "https://localhost:8080/"
        },
        "id": "Nwg3nzNsXL9E",
        "outputId": "ba13856b-2cd3-46e0-8fd7-eecba3636bba"
      },
      "source": [
        "# test 1    \n",
        "colors = [['G', 'G', 'G'],\n",
        "          ['G', 'R', 'G'],\n",
        "          ['G', 'G', 'G']]\n",
        "measurements = ['R']\n",
        "motions = [[0,0]]\n",
        "sensor_right = 1.0\n",
        "p_move = 1.0\n",
        "p = localize(colors,measurements,motions,sensor_right,p_move)\n",
        "#correct_answer = (\n",
        " #   [[0.0, 0.0, 0.0],\n",
        "  #   [0.0, 1.0, 0.0],\n",
        "   #  [0.0, 0.0, 0.0]])\n",
        "print(\"Test 1:\")\n",
        "show(p)\n",
        "#show(correct_answer)\n",
        "print (\"\\n\")\n",
        "\n",
        "# test 2\n",
        "colors = [['G', 'G', 'G'],\n",
        "          ['G', 'R', 'R'],\n",
        "          ['G', 'G', 'G']]\n",
        "measurements = ['R']\n",
        "motions = [[0,0]]\n",
        "sensor_right = 1.0\n",
        "p_move = 1.0\n",
        "p = localize(colors,measurements,motions,sensor_right,p_move)\n",
        "#correct_answer = (\n",
        "  #  [[0.0, 0.0, 0.0],\n",
        "   #  [0.0, 0.5, 0.5],\n",
        "    # [0.0, 0.0, 0.0]])\n",
        "print (\"Test 2:\")\n",
        "show(p)\n",
        "#show(correct_answer)\n",
        "print(\"\\n\")\n",
        "\n",
        "# test 3\n",
        "colors = [['G', 'G', 'G'],\n",
        "          ['G', 'R', 'R'],\n",
        "          ['G', 'G', 'G']]\n",
        "measurements = ['R']\n",
        "motions = [[0,0]]\n",
        "sensor_right = 0.8\n",
        "p_move = 1.0\n",
        "p = localize(colors,measurements,motions,sensor_right,p_move)\n",
        "#correct_answer = (\n",
        " #   [[0.06666666666, 0.06666666666, 0.06666666666],\n",
        "  #   [0.06666666666, 0.26666666666, 0.26666666666],\n",
        "   #  [0.06666666666, 0.06666666666, 0.06666666666]])\n",
        "print(\"Test 3:\")\n",
        "#show(p)\n",
        "#show(correct_answer)\n",
        "print(\"\\n\")\n",
        "\n",
        "# test 4\n",
        "colors = [['G', 'G', 'G'],\n",
        "          ['G', 'R', 'R'],\n",
        "          ['G', 'G', 'G']]\n",
        "measurements = ['R', 'R']\n",
        "motions = [[0,0], [0,1]]\n",
        "sensor_right = 0.8\n",
        "p_move = 1.0\n",
        "p = localize(colors,measurements,motions,sensor_right,p_move)\n",
        "#correct_answer = (\n",
        " #   [[0.03333333333, 0.03333333333, 0.03333333333],\n",
        "  #   [0.13333333333, 0.13333333333, 0.53333333333],\n",
        "   #  [0.03333333333, 0.03333333333, 0.03333333333]])\n",
        "print(\"Test 4:\")\n",
        "show(p)\n",
        "#show(correct_answer)\n",
        "print(\"\\n\")\n",
        "\n",
        "# test 5\n",
        "colors = [['G', 'G', 'G'],\n",
        "          ['G', 'R', 'R'],\n",
        "          ['G', 'G', 'G']]\n",
        "measurements = ['R', 'R']\n",
        "motions = [[0,0], [0,1]]\n",
        "sensor_right = 1.0\n",
        "p_move = 1.0\n",
        "p = localize(colors,measurements,motions,sensor_right,p_move)\n",
        "#correct_answer = (\n",
        " #   [[0.0, 0.0, 0.0],\n",
        "  #   [0.0, 0.0, 1.0],\n",
        "   #  [0.0, 0.0, 0.0]])\n",
        "print(\"Test 5:\")\n",
        "show(p)\n",
        "#show(correct_answer)\n",
        "print(\"\\n\")\n",
        "\n",
        "# test 6\n",
        "colors = [['G', 'G', 'G'],\n",
        "          ['G', 'R', 'R'],\n",
        "          ['G', 'G', 'G']]\n",
        "measurements = ['R', 'R']\n",
        "motions = [[0,0], [0,1]]\n",
        "sensor_right = 0.8\n",
        "p_move = 0.5\n",
        "p = localize(colors,measurements,motions,sensor_right,p_move)\n",
        "\n",
        "print(\"Test 6:\")\n",
        "show(p)\n",
        "#show(correct_answer)\n",
        "print(\"\\n\")\n",
        "\n",
        "# test 7\n",
        "colors = [['G', 'G', 'G'],\n",
        "          ['G', 'R', 'R'],\n",
        "          ['G', 'G', 'G']]\n",
        "measurements = ['R', 'R']\n",
        "motions = [[0,0], [0,1]]\n",
        "sensor_right = 1.0\n",
        "p_move = 0.5\n",
        "p = localize(colors,measurements,motions,sensor_right,p_move)\n",
        "#correct_answer = (\n",
        "#    [[0.0, 0.0, 0.0],\n",
        " #    [0.0, 0.33333333, 0.66666666],\n",
        "  #   [0.0, 0.0, 0.0]])\n",
        "print(\"Test 7:\")\n",
        "show(p)\n",
        "#show(correct_answer)\n",
        "print(\"\\n\")"
      ],
      "execution_count": null,
      "outputs": [
        {
          "output_type": "stream",
          "text": [
            "Test 1:\n",
            "[0.0, 0.0, 0.0, 0.0, 0.0]\n",
            "[0.0, 1.0, 0.0, 0.0, 0.0]\n",
            "[0.0, 0.0, 0.0, 0.0, 0.0]\n",
            "\n",
            "\n",
            "Test 2:\n",
            "[0.0, 0.0, 0.0, 0.0, 0.0]\n",
            "[0.0, 0.5, 0.5, 0.0, 0.0]\n",
            "[0.0, 0.0, 0.0, 0.0, 0.0]\n",
            "\n",
            "\n",
            "Test 3:\n",
            "\n",
            "\n",
            "Test 4:\n",
            "[0.0, 0.04166666666666666, 0.04166666666666666, 0.0, 0.0]\n",
            "[0.0, 0.16666666666666669, 0.6666666666666667, 0.0, 0.0]\n",
            "[0.0, 0.04166666666666666, 0.04166666666666666, 0.0, 0.0]\n",
            "\n",
            "\n",
            "Test 5:\n",
            "[0.0, 0.0, 0.0, 0.0, 0.0]\n",
            "[0.0, 0.0, 1.0, 0.0, 0.0]\n",
            "[0.0, 0.0, 0.0, 0.0, 0.0]\n",
            "\n",
            "\n",
            "Test 6:\n",
            "[0.015873015873015872, 0.031746031746031744, 0.031746031746031744, 0.0, 0.0]\n",
            "[0.015873015873015872, 0.31746031746031755, 0.507936507936508, 0.0, 0.0]\n",
            "[0.015873015873015872, 0.031746031746031744, 0.031746031746031744, 0.0, 0.0]\n",
            "\n",
            "\n",
            "Test 7:\n",
            "[0.0, 0.0, 0.0, 0.0, 0.0]\n",
            "[0.0, 0.3333333333333333, 0.6666666666666666, 0.0, 0.0]\n",
            "[0.0, 0.0, 0.0, 0.0, 0.0]\n",
            "\n",
            "\n"
          ],
          "name": "stdout"
        }
      ]
    },
    {
      "cell_type": "markdown",
      "metadata": {
        "id": "e4gkGpeYpeqj"
      },
      "source": [
        "#$$\\textbf{Tracking}$$\n",
        "\n",
        "$$Kalman filter$$"
      ]
    },
    {
      "cell_type": "code",
      "metadata": {
        "colab": {
          "base_uri": "https://localhost:8080/"
        },
        "id": "xdbTjPQfp5Af",
        "outputId": "c16022e5-0976-498b-ecd2-8b0a6155677f"
      },
      "source": [
        "#1-d kalman filter\n",
        "\n",
        "\n",
        "from math import *\n",
        "\n",
        "def f(mu, sigma2, x):\n",
        "    return 1/sqrt(2*pi*sigma2) * exp(-.5*(x-mu)**2 / sigma2)\n",
        "\n",
        "print (f(10.,4.,0)) #Change the 8. to something else!\n",
        "#Instead, please just change the last argument \n",
        "#in f() to maximize the output.\n",
        "print(\"Maximum value is\")\n",
        "print (f(10.,4.,10)) #put x=mu to get maximum"
      ],
      "execution_count": null,
      "outputs": [
        {
          "output_type": "stream",
          "text": [
            "7.433597573671488e-07\n",
            "Maximum value is\n",
            "0.19947114020071635\n"
          ],
          "name": "stdout"
        }
      ]
    },
    {
      "cell_type": "code",
      "metadata": {
        "colab": {
          "base_uri": "https://localhost:8080/"
        },
        "id": "J13i3RmGp5Nh",
        "outputId": "f60b04da-5575-42f5-a6b0-4b354ef8b2cf"
      },
      "source": [
        "# Write a program to update your mean and variance\n",
        "# when given the mean and variance of your belief\n",
        "# and the mean and variance of your measurement.\n",
        "# This program will update the parameters of your\n",
        "# belief function.\n",
        "\n",
        "def update(mean1, var1, mean2, var2):\n",
        "    new_mean =(mean1*var2+mean2*var1)/(var1+var2)\n",
        "    new_var =(var1*var2)/(var1+var2)\n",
        "    return [new_mean, new_var]\n",
        "\n",
        "print (update(10.,8.,13., 2.))"
      ],
      "execution_count": null,
      "outputs": [
        {
          "output_type": "stream",
          "text": [
            "[12.4, 1.6]\n"
          ],
          "name": "stdout"
        }
      ]
    },
    {
      "cell_type": "code",
      "metadata": {
        "colab": {
          "base_uri": "https://localhost:8080/"
        },
        "id": "2duZ7ofhp5PX",
        "outputId": "64df77f9-8aa1-469a-826a-efcbfd05e8e4"
      },
      "source": [
        "# Write a program that will predict your new mean\n",
        "# and variance given the mean and variance of your \n",
        "# prior belief and the mean and variance of your \n",
        "# motion. \n",
        "\n",
        "def update(mean1, var1, mean2, var2):\n",
        "    new_mean = (var2 * mean1 + var1 * mean2) / (var1 + var2)\n",
        "    new_var = 1/(1/var1 + 1/var2)\n",
        "    return [new_mean, new_var]\n",
        "\n",
        "def predict(mean1, var1, mean2, var2):\n",
        "    new_mean =mean1+mean2\n",
        "    new_var =var1+var2\n",
        "    return [new_mean, new_var]\n",
        "\n",
        "print(predict(10., 4., 12., 4.))"
      ],
      "execution_count": null,
      "outputs": [
        {
          "output_type": "stream",
          "text": [
            "[22.0, 8.0]\n"
          ],
          "name": "stdout"
        }
      ]
    },
    {
      "cell_type": "code",
      "metadata": {
        "colab": {
          "base_uri": "https://localhost:8080/"
        },
        "id": "P1B3nshdp5SJ",
        "outputId": "8bb3689c-7ad3-4065-a1e0-d513ca723c39"
      },
      "source": [
        "#KALMAN FILTER CODE\n",
        "# Write a program that will iteratively update and\n",
        "# predict based on the location measurements \n",
        "# and inferred motions shown below. \n",
        "\n",
        "def update(mean1, var1, mean2, var2):\n",
        "    new_mean = float(var2 * mean1 + var1 * mean2) / (var1 + var2)\n",
        "    new_var = 1./(1./var1 + 1./var2)\n",
        "    return [new_mean, new_var]\n",
        "\n",
        "def predict(mean1, var1, mean2, var2):\n",
        "    new_mean = mean1 + mean2\n",
        "    new_var = var1 + var2\n",
        "    return [new_mean, new_var]\n",
        "\n",
        "measurements = [5., 6., 7., 9., 10.]\n",
        "motion = [1., 1., 2., 1., 1.]\n",
        "measurement_sig = 4. #Measurement variance\n",
        "motion_sig = 2. #motion variance\n",
        "mu = 0.\n",
        "sig = 10000. #with high uncertainity\n",
        "\n",
        "#Please print out ONLY the final values of the mean\n",
        "#and the variance in a list [mu, sig]. \n",
        "\n",
        "# Insert code here\n",
        "for i in range(len(measurements)):\n",
        "  print(\"Update step\",i,\"for measurement:\",measurements[0])\n",
        "  [mu,sig]=update(mu,sig,measurements[i],measurement_sig)\n",
        "  print([mu,sig])\n",
        "  print(\"Motion update step:\",i,\"for motion:\",motion[i])\n",
        "  [mu,sig]=predict(mu,sig,motion[i],motion_sig)\n",
        "  print([mu,sig])\n",
        "\n",
        "print(\"Final predicted position with mean is\",mu,\"and variance is\",sig) \n",
        "\n"
      ],
      "execution_count": null,
      "outputs": [
        {
          "output_type": "stream",
          "text": [
            "Update step 0 for measurement: 5.0\n",
            "[4.998000799680128, 3.9984006397441023]\n",
            "Motion update step: 0 for motion: 1.0\n",
            "[5.998000799680128, 5.998400639744102]\n",
            "Update step 1 for measurement: 5.0\n",
            "[5.999200191953932, 2.399744061425258]\n",
            "Motion update step: 1 for motion: 1.0\n",
            "[6.999200191953932, 4.399744061425258]\n",
            "Update step 2 for measurement: 5.0\n",
            "[6.999619127420922, 2.0951800575117594]\n",
            "Motion update step: 2 for motion: 2.0\n",
            "[8.999619127420921, 4.09518005751176]\n",
            "Update step 3 for measurement: 5.0\n",
            "[8.999811802788143, 2.0235152416216957]\n",
            "Motion update step: 3 for motion: 1.0\n",
            "[9.999811802788143, 4.023515241621696]\n",
            "Update step 4 for measurement: 5.0\n",
            "[9.999906177177365, 2.0058615808441944]\n",
            "Motion update step: 4 for motion: 1.0\n",
            "[10.999906177177365, 4.005861580844194]\n",
            "Final predicted position with mean is 10.999906177177365 and variance is 4.005861580844194\n"
          ],
          "name": "stdout"
        }
      ]
    },
    {
      "cell_type": "markdown",
      "metadata": {
        "id": "ZCsKFFxhJgMY"
      },
      "source": [
        "x_prime = x + x_dot\n",
        "\n",
        "assumes that the time interval delta_t is equal to 1. A more general formula is\n",
        "\n",
        "x_prime = x + x_dot*delta_t\n",
        "x_dot_prime=x_dot\n",
        "\n",
        "#Kalman Matrices\n",
        "Here we have a challenging programming problem. You are going to write a multidimensional\n",
        "Kalman filter! You can start by using the matrix class implemented by Professor Thrun . This\n",
        "class can perform all of the matrix manipulations that we need to utilize the formulas that we\n",
        "discussed in the previous question.\n",
        "\n",
        "measurements = [1,2,3]\n",
        "x = matrix([[0.], [0.]]) # initial state (location and velocity)\n",
        "p = matrix([[1000., 0.], [0., 1000.]]) # initial uncertainty\n",
        "u = matrix([[0.], [0.]]) # external motion\n",
        "F = matrix([[1., 1], [0,1.]]) # next state function\n",
        "H = matrix([[1., 0]]) #measurement function\n",
        "R = matrix([[1.]]) # measurement uncertainty\n",
        "I = matrix([[1., 0.], [0., 1.]]) # identity matrix\n",
        "filter(x, P)\n",
        "When you run the filter with the given measurements, you can estimate the velocity to make\n",
        "better predictions.\n",
        "When you run the filter you want to return the measurement update first and then the motion\n",
        "update.\n",
        "Fill in this empty procedure to print out the resulting estimates for x and P:\n"
      ]
    },
    {
      "cell_type": "code",
      "metadata": {
        "id": "FayQKhL4p5WW"
      },
      "source": [
        "#Write the algorithm filter(x, p) that outputs the exact values, by implementing the given equations and familiarizing yourself with the matrix class. Fill in the value in accordance to\n",
        "#the things that were shown for the multivariate Kalman filter in the previous video.\n",
        "#Answer: Kalman Matrices\n",
        "\n",
        "Z = matrix(measurements[n])\n",
        "y = Z ­-(H * x)\n",
        "S = H * P * H.transpose() + R\n",
        "K = P * H.transpose() * S.inverse()\n",
        "x = x + (K * y)\n",
        "P = (I ­-(K * H)) * P\n",
        "# prediction\n",
        "x = (F * x) + u\n",
        "P = F * P * F.transpose()"
      ],
      "execution_count": null,
      "outputs": []
    },
    {
      "cell_type": "markdown",
      "metadata": {
        "id": "RPOKfrV7Vaw3"
      },
      "source": [
        "#Multidimensional KALMAN FILTER"
      ]
    },
    {
      "cell_type": "code",
      "metadata": {
        "colab": {
          "base_uri": "https://localhost:8080/"
        },
        "id": "yCwZCv9xPfak",
        "outputId": "ffda922d-1fed-495b-afe3-e1fd8c0d4f9e"
      },
      "source": [
        "# Write a function 'kalman_filter' that implements a multi-dimensional Kalman Filter for the example given\n",
        "\n",
        "from math import *\n",
        "\n",
        "\n",
        "class matrix:\n",
        "    \n",
        "    # implements basic operations of a matrix class\n",
        "    \n",
        "    def __init__(self, value):\n",
        "        self.value = value\n",
        "        self.dimx = len(value)\n",
        "        self.dimy = len(value[0])\n",
        "        if value == [[]]:\n",
        "            self.dimx = 0\n",
        "    \n",
        "    def zero(self, dimx, dimy):\n",
        "        # check if valid dimensions\n",
        "        if dimx < 1 or dimy < 1:\n",
        "            raise(ValueError, \"Invalid size of matrix\")\n",
        "        else:\n",
        "            self.dimx = dimx\n",
        "            self.dimy = dimy\n",
        "            self.value = [[0 for row in range(dimy)] for col in range(dimx)]\n",
        "    \n",
        "    def identity(self, dim):\n",
        "        # check if valid dimension\n",
        "        if dim < 1:\n",
        "            raise(ValueError, \"Invalid size of matrix\")\n",
        "        else:\n",
        "            self.dimx = dim\n",
        "            self.dimy = dim\n",
        "            self.value = [[0 for row in range(dim)] for col in range(dim)]\n",
        "            for i in range(dim):\n",
        "                self.value[i][i] = 1\n",
        "    \n",
        "    def show(self):\n",
        "        for i in range(self.dimx):\n",
        "            print(self.value[i])\n",
        "        print(' ')\n",
        "    \n",
        "    def __add__(self, other):\n",
        "        # check if correct dimensions\n",
        "        if self.dimx != other.dimx or self.dimy != other.dimy:\n",
        "            raise(ValueError, \"Matrices must be of equal dimensions to add\")\n",
        "        else:\n",
        "            # add if correct dimensions\n",
        "            res = matrix([[]])\n",
        "            res.zero(self.dimx, self.dimy)\n",
        "            for i in range(self.dimx):\n",
        "                for j in range(self.dimy):\n",
        "                    res.value[i][j] = self.value[i][j] + other.value[i][j]\n",
        "            return res\n",
        "    \n",
        "    def __sub__(self, other):\n",
        "        # check if correct dimensions\n",
        "        if self.dimx != other.dimx or self.dimy != other.dimy:\n",
        "            raise(ValueError, \"Matrices must be of equal dimensions to subtract\")\n",
        "        else:\n",
        "            # subtract if correct dimensions\n",
        "            res = matrix([[]])\n",
        "            res.zero(self.dimx, self.dimy)\n",
        "            for i in range(self.dimx):\n",
        "                for j in range(self.dimy):\n",
        "                    res.value[i][j] = self.value[i][j] - other.value[i][j]\n",
        "            return res\n",
        "    \n",
        "    def __mul__(self, other):\n",
        "        # check if correct dimensions\n",
        "        if self.dimy != other.dimx:\n",
        "            raise(ValueError, \"Matrices must be m*n and n*p to multiply\")\n",
        "        else:\n",
        "            # multiply if correct dimensions\n",
        "            res = matrix([[]])\n",
        "            res.zero(self.dimx, other.dimy)\n",
        "            for i in range(self.dimx):\n",
        "                for j in range(other.dimy):\n",
        "                    for k in range(self.dimy):\n",
        "                        res.value[i][j] += self.value[i][k] * other.value[k][j]\n",
        "            return res\n",
        "    \n",
        "    def transpose(self):\n",
        "        # compute transpose\n",
        "        res = matrix([[]])\n",
        "        res.zero(self.dimy, self.dimx)\n",
        "        for i in range(self.dimx):\n",
        "            for j in range(self.dimy):\n",
        "                res.value[j][i] = self.value[i][j]\n",
        "        return res\n",
        "    \n",
        "    # Thanks to Ernesto P. Adorio for use of Cholesky and CholeskyInverse functions\n",
        "    \n",
        "    def Cholesky(self, ztol=1.0e-5):\n",
        "        # Computes the upper triangular Cholesky factorization of\n",
        "        # a positive definite matrix.\n",
        "        res = matrix([[]])\n",
        "        res.zero(self.dimx, self.dimx)\n",
        "        \n",
        "        for i in range(self.dimx):\n",
        "            S = sum([(res.value[k][i])**2 for k in range(i)])\n",
        "            d = self.value[i][i] - S\n",
        "            if abs(d) < ztol:\n",
        "                res.value[i][i] = 0.0\n",
        "            else:\n",
        "                if d < 0.0:\n",
        "                    raise(ValueError, \"Matrix not positive-definite\")\n",
        "                res.value[i][i] = sqrt(d)\n",
        "            for j in range(i+1, self.dimx):\n",
        "                S = sum([res.value[k][i] * res.value[k][j] for k in range(self.dimx)])\n",
        "                if abs(S) < ztol:\n",
        "                    S = 0.0\n",
        "                try:\n",
        "                   res.value[i][j] = (self.value[i][j] - S)/res.value[i][i]\n",
        "                except:\n",
        "                   raise(ValueError, \"Zero diagonal\")\n",
        "        return res\n",
        "    \n",
        "    def CholeskyInverse(self):\n",
        "        # Computes inverse of matrix given its Cholesky upper Triangular\n",
        "        # decomposition of matrix.\n",
        "        res = matrix([[]])\n",
        "        res.zero(self.dimx, self.dimx)\n",
        "        \n",
        "        # Backward step for inverse.\n",
        "        for j in reversed(range(self.dimx)):\n",
        "            tjj = self.value[j][j]\n",
        "            S = sum([self.value[j][k]*res.value[j][k] for k in range(j+1, self.dimx)])\n",
        "            res.value[j][j] = 1.0/tjj**2 - S/tjj\n",
        "            for i in reversed(range(j)):\n",
        "                res.value[j][i] = res.value[i][j] = -sum([self.value[i][k]*res.value[k][j] for k in range(i+1, self.dimx)])/self.value[i][i]\n",
        "        return res\n",
        "    \n",
        "    def inverse(self):\n",
        "        aux = self.Cholesky()\n",
        "        res = aux.CholeskyInverse()\n",
        "        return res\n",
        "    \n",
        "    def __repr__(self):\n",
        "        return repr(self.value)\n",
        "\n",
        "\n",
        "########################################\n",
        "\n",
        "# Implement the filter function below\n",
        "\n",
        "def kalman_filter(x, P):\n",
        "    for n in range(len(measurements)):\n",
        "        # measurement update\n",
        "\n",
        "        Z = matrix([[measurements[n]]])\n",
        "        y=Z-H*x\n",
        "        S = H * P * H.transpose() + R\n",
        "        K = P * H.transpose() * S.inverse() #kalman gain\n",
        "        x = x + (K * y)\n",
        "        \n",
        "        P = (I-(K * H)) * P\n",
        "        # prediction\n",
        "        x = (F * x) + u\n",
        "        P = F * P * F.transpose()    \n",
        "    return x,P\n",
        "\n",
        "############################################\n",
        "### use the code below to test your filter!\n",
        "############################################\n",
        "\n",
        "measurements = [1, 2, 3]\n",
        "\n",
        "x = matrix([[0.], [0.]]) # initial state (location and velocity)\n",
        "P = matrix([[1000., 0.], [0., 1000.]]) # initial uncertainty\n",
        "u = matrix([[0.], [0.]]) # external motion\n",
        "F = matrix([[1., 1.], [0, 1.]]) # next state function\n",
        "H = matrix([[1., 0.]]) # measurement function\n",
        "R = matrix([[1.]]) # measurement uncertainty(Noise matrix)\n",
        "I = matrix([[1., 0.], [0., 1.]]) # identity matrix\n",
        "x,P=kalman_filter(x, P)\n",
        "print(\"Measurement update is:\",x,\"prediction update is\",P)\n",
        "print(kalman_filter(x, P))\n",
        "# output should be:\n",
        "# x: [[3.9996664447958645], [0.9999998335552873]]\n",
        "# P: [[2.3318904241194827, 0.9991676099921091], [0.9991676099921067, 0.49950058263974184]]\n"
      ],
      "execution_count": 14,
      "outputs": [
        {
          "output_type": "stream",
          "text": [
            "Measurement update is: [[3.9996664447958645], [0.9999998335552873]] prediction update is [[2.3318904241194827, 0.9991676099921091], [0.9991676099921067, 0.49950058263974184]]\n",
            "([[2.8004301995942233], [0.22876233589283582]], [[0.8665156350452186, 0.1999409847618014], [0.19994098476180128, 0.05711919687496857]])\n"
          ],
          "name": "stdout"
        }
      ]
    },
    {
      "cell_type": "code",
      "metadata": {
        "colab": {
          "base_uri": "https://localhost:8080/"
        },
        "id": "wiheuOHeZqul",
        "outputId": "3f565060-e77e-4221-ffe3-38f454a6818c"
      },
      "source": [
        "# Fill in the matrices P, F, H, R and I at the bottom\n",
        "#\n",
        "# This question requires NO CODING, just fill in the \n",
        "# matrices where indicated. Please do not delete or modify\n",
        "# any provided code OR comments. Good luck!\n",
        "\n",
        "\n",
        "\n",
        "\n",
        "########################################\n",
        "\n",
        "def filter(x, P):\n",
        "    for n in range(len(measurements)):\n",
        "        \n",
        "        # prediction\n",
        "        x = (F * x) + u\n",
        "        P = F * P * F.transpose()\n",
        "        \n",
        "        # measurement update\n",
        "        Z = matrix([measurements[n]])\n",
        "        y = Z.transpose() - (H * x)\n",
        "        S = H * P * H.transpose() + R\n",
        "        K = P * H.transpose() * S.inverse()\n",
        "        x = x + (K * y)\n",
        "        P = (I - (K * H)) * P\n",
        "    \n",
        "    print ('x= ')\n",
        "    x.show()\n",
        "    print ('P= ')\n",
        "    P.show()\n",
        "\n",
        "########################################\n",
        "\n",
        "print(\"### 4-dimensional example ###\")\n",
        "\n",
        "measurements = [[5., 10.], [6., 8.], [7., 6.], [8., 4.], [9., 2.], [10., 0.]]\n",
        "initial_xy = [4., 12.]\n",
        "\n",
        "# measurements = [[1., 4.], [6., 0.], [11., -4.], [16., -8.]]\n",
        "# initial_xy = [-4., 8.]\n",
        "\n",
        "# measurements = [[1., 17.], [1., 15.], [1., 13.], [1., 11.]]\n",
        "# initial_xy = [1., 19.]\n",
        "\n",
        "dt = 0.1\n",
        "\n",
        "x = matrix([[initial_xy[0]], [initial_xy[1]], [0.], [0.]]) # initial state (location and velocity)\n",
        "u = matrix([[0.], [0.], [0.], [0.]]) # external motion\n",
        "\n",
        "#### DO NOT MODIFY ANYTHING ABOVE HERE ####\n",
        "#### fill this in, remember to use the matrix() function!: ####\n",
        "\n",
        "P =  matrix([[0.,0.,0.,0.],[0.,0.,0.,0.],[0.,0.,1000.,0.],[0.,0.,0.,1000.]])\n",
        "# initial uncertainty: 0 for positions x and y, 1000 for the two velocities\n",
        "F =  matrix([[1.,0.,.1,0.],[0.,1.,0.,.1],[0.,0.,1.,0.],[0.,0.,0.,1.]])\n",
        "# next state function: generalize the 2d version to 4d\n",
        "H =  matrix([[1.,0.,0.,0.],[0.,1.,0.,0.]])\n",
        "# measurement function: reflect the fact that we observe x and y but not the two velocities\n",
        "R =  matrix([[.1,0],[0,.1]])\n",
        "# measurement uncertainty: use 2x2 matrix with 0.1 as main diagonal\n",
        "I =  matrix([[]])\n",
        "I.identity(4)\n",
        "# 4d identity matrix\n",
        "\n",
        "\n",
        "###### DO NOT MODIFY ANYTHING HERE #######\n",
        "\n",
        "filter(x, P)"
      ],
      "execution_count": 17,
      "outputs": [
        {
          "output_type": "stream",
          "text": [
            "### 4-dimensional example ###\n",
            "x= \n",
            "[9.999340731787717]\n",
            "[0.001318536424568617]\n",
            "[9.998901219646193]\n",
            "[-19.997802439292386]\n",
            " \n",
            "P= \n",
            "[0.03955609273706198, 0.0, 0.06592682122843721, 0.0]\n",
            "[0.0, 0.03955609273706198, 0.0, 0.06592682122843721]\n",
            "[0.06592682122843718, 0.0, 0.10987803538073201, 0.0]\n",
            "[0.0, 0.06592682122843718, 0.0, 0.10987803538073201]\n",
            " \n"
          ],
          "name": "stdout"
        }
      ]
    },
    {
      "cell_type": "code",
      "metadata": {
        "id": "LXbREalwPf0c"
      },
      "source": [
        ""
      ],
      "execution_count": null,
      "outputs": []
    },
    {
      "cell_type": "code",
      "metadata": {
        "id": "V2iRU61zPf2x"
      },
      "source": [
        ""
      ],
      "execution_count": null,
      "outputs": []
    },
    {
      "cell_type": "code",
      "metadata": {
        "id": "xlz8N6O2Pf6y"
      },
      "source": [
        ""
      ],
      "execution_count": null,
      "outputs": []
    }
  ]
}